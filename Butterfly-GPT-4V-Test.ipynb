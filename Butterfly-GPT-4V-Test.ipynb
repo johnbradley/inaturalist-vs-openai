{
 "cells": [
  {
   "cell_type": "markdown",
   "id": "f60b50d6-1277-4c41-b86d-ef449a21d5d6",
   "metadata": {},
   "source": [
    "# OpenAI gpt-4 vision preview vs iNaturalist Data\n",
    "This notebook compares iNaturalist species classification compared against the value returned by a OpenAI model.\n",
    "\n",
    "A __OPEN_API_KEY__ environment variable must be setup with your OpenAI API key to use this notebook."
   ]
  },
  {
   "cell_type": "code",
   "execution_count": 1,
   "id": "fec3c5a2-ab09-49ca-ba2d-502364cfde92",
   "metadata": {},
   "outputs": [],
   "source": [
    "import os\n",
    "import csv\n",
    "import pandas as pd\n",
    "from pyinaturalist import get_observations\n",
    "from IPython.display import display, Markdown\n",
    "from openai import OpenAI"
   ]
  },
  {
   "cell_type": "markdown",
   "id": "3deadef2-3dca-4562-bc63-c13f384a3308",
   "metadata": {},
   "source": [
    "## Settings"
   ]
  },
  {
   "cell_type": "code",
   "execution_count": 2,
   "id": "3f147c90-ad55-411b-b74f-7aa980b10bdb",
   "metadata": {},
   "outputs": [],
   "source": [
    "images_filename = 'images.csv'\n",
    "images_guess_filename = 'images_with_guess.csv'\n",
    "images_per_taxon = 10\n",
    "open_api_key = os.environ['OPEN_API_KEY']\n",
    "open_ai_model = \"gpt-4-vision-preview\"\n",
    "taxon_names = ['Heliconius melpomene', 'Heliconius erato']"
   ]
  },
  {
   "cell_type": "markdown",
   "id": "3d1e01d2-fc6f-471f-9c1d-96017ba510bf",
   "metadata": {},
   "source": [
    "## Fetch observations and save as a CSV"
   ]
  },
  {
   "cell_type": "code",
   "execution_count": 3,
   "id": "4c01c0aa-a132-48dc-bb84-b73ccdef2fc6",
   "metadata": {},
   "outputs": [],
   "source": [
    "# Fetch research grade observations for the given taxonomy names ordered by iNaturalist votes\n",
    "columns = ['id', 'species_guess', 'square_url', 'medium_url', 'taxon_rank', 'taxon_name', 'preferred_common_name', 'all']\n",
    "with open(images_filename, 'w') as outfile:\n",
    "    writer = csv.DictWriter(outfile, fieldnames=columns)\n",
    "    writer.writeheader()\n",
    "    for taxon_name in taxon_names:\n",
    "        observations = get_observations(quality_grade='research', taxon_rank='species', taxon_name=taxon_name, \n",
    "                                        per_page=images_per_taxon, order_by='votes')\n",
    "        for obs in observations['results']:\n",
    "            taxon = observations['results'][1]['taxon']\n",
    "            square_url = obs['photos'][0]['url']\n",
    "            medium_url = square_url.replace(\"/square.\", \"/medium.\")\n",
    "            writer.writerow({\n",
    "                'id': obs['id'],\n",
    "                'species_guess': obs['species_guess'],\n",
    "                'square_url': square_url,\n",
    "                'medium_url': medium_url,\n",
    "                'taxon_rank': taxon['rank'],\n",
    "                'taxon_name': taxon['name'],\n",
    "                'preferred_common_name': taxon.get('preferred_common_name'),\n",
    "            })"
   ]
  },
  {
   "cell_type": "markdown",
   "id": "55055f2a-0368-4805-a8d6-b42f6c7bd74d",
   "metadata": {},
   "source": [
    "## Show iNaturalist medium images"
   ]
  },
  {
   "cell_type": "code",
   "execution_count": 4,
   "id": "28594ad8-ca51-41f2-b65a-8c1116700d87",
   "metadata": {},
   "outputs": [
    {
     "data": {
      "text/html": [
       "<pre style=\"white-space:pre;overflow-x:auto;line-height:normal;font-family:Menlo,'DejaVu Sans Mono',consolas,'Courier New',monospace\"></pre>\n"
      ],
      "text/plain": []
     },
     "metadata": {},
     "output_type": "display_data"
    },
    {
     "data": {
      "text/markdown": [
       "### Observation :188862491\n",
       "__Taxon:__ species - Heliconius melpomene\n",
       "\n",
       "__Common Name:__ postman\n",
       "\n",
       "![Image 188862491](https://static.inaturalist.org/photos/330679490/square.jpg)\n",
       "\n",
       "[View in iNaturalist](https://www.inaturalist.org/observations/188862491)"
      ],
      "text/plain": [
       "\u001b[1m<\u001b[0m\u001b[1;95mIPython.core.display.Markdown\u001b[0m\u001b[39m object\u001b[0m\u001b[1m>\u001b[0m"
      ]
     },
     "metadata": {},
     "output_type": "display_data"
    },
    {
     "data": {
      "text/html": [
       "<pre style=\"white-space:pre;overflow-x:auto;line-height:normal;font-family:Menlo,'DejaVu Sans Mono',consolas,'Courier New',monospace\"></pre>\n"
      ],
      "text/plain": []
     },
     "metadata": {},
     "output_type": "display_data"
    },
    {
     "data": {
      "text/markdown": [
       "### Observation :163448200\n",
       "__Taxon:__ species - Heliconius melpomene\n",
       "\n",
       "__Common Name:__ postman\n",
       "\n",
       "![Image 163448200](https://inaturalist-open-data.s3.amazonaws.com/photos/282700998/square.jpeg)\n",
       "\n",
       "[View in iNaturalist](https://www.inaturalist.org/observations/163448200)"
      ],
      "text/plain": [
       "\u001b[1m<\u001b[0m\u001b[1;95mIPython.core.display.Markdown\u001b[0m\u001b[39m object\u001b[0m\u001b[1m>\u001b[0m"
      ]
     },
     "metadata": {},
     "output_type": "display_data"
    },
    {
     "data": {
      "text/html": [
       "<pre style=\"white-space:pre;overflow-x:auto;line-height:normal;font-family:Menlo,'DejaVu Sans Mono',consolas,'Courier New',monospace\"></pre>\n"
      ],
      "text/plain": []
     },
     "metadata": {},
     "output_type": "display_data"
    },
    {
     "data": {
      "text/markdown": [
       "### Observation :117599476\n",
       "__Taxon:__ species - Heliconius melpomene\n",
       "\n",
       "__Common Name:__ postman\n",
       "\n",
       "![Image 117599476](https://static.inaturalist.org/photos/198626178/square.jpeg)\n",
       "\n",
       "[View in iNaturalist](https://www.inaturalist.org/observations/117599476)"
      ],
      "text/plain": [
       "\u001b[1m<\u001b[0m\u001b[1;95mIPython.core.display.Markdown\u001b[0m\u001b[39m object\u001b[0m\u001b[1m>\u001b[0m"
      ]
     },
     "metadata": {},
     "output_type": "display_data"
    },
    {
     "data": {
      "text/html": [
       "<pre style=\"white-space:pre;overflow-x:auto;line-height:normal;font-family:Menlo,'DejaVu Sans Mono',consolas,'Courier New',monospace\"></pre>\n"
      ],
      "text/plain": []
     },
     "metadata": {},
     "output_type": "display_data"
    },
    {
     "data": {
      "text/markdown": [
       "### Observation :26130378\n",
       "__Taxon:__ species - Heliconius melpomene\n",
       "\n",
       "__Common Name:__ postman\n",
       "\n",
       "![Image 26130378](https://inaturalist-open-data.s3.amazonaws.com/photos/40544729/square.jpeg)\n",
       "\n",
       "[View in iNaturalist](https://www.inaturalist.org/observations/26130378)"
      ],
      "text/plain": [
       "\u001b[1m<\u001b[0m\u001b[1;95mIPython.core.display.Markdown\u001b[0m\u001b[39m object\u001b[0m\u001b[1m>\u001b[0m"
      ]
     },
     "metadata": {},
     "output_type": "display_data"
    },
    {
     "data": {
      "text/html": [
       "<pre style=\"white-space:pre;overflow-x:auto;line-height:normal;font-family:Menlo,'DejaVu Sans Mono',consolas,'Courier New',monospace\"></pre>\n"
      ],
      "text/plain": []
     },
     "metadata": {},
     "output_type": "display_data"
    },
    {
     "data": {
      "text/markdown": [
       "### Observation :101226538\n",
       "__Taxon:__ species - Heliconius melpomene\n",
       "\n",
       "__Common Name:__ postman\n",
       "\n",
       "![Image 101226538](https://inaturalist-open-data.s3.amazonaws.com/photos/169023221/square.jpg)\n",
       "\n",
       "[View in iNaturalist](https://www.inaturalist.org/observations/101226538)"
      ],
      "text/plain": [
       "\u001b[1m<\u001b[0m\u001b[1;95mIPython.core.display.Markdown\u001b[0m\u001b[39m object\u001b[0m\u001b[1m>\u001b[0m"
      ]
     },
     "metadata": {},
     "output_type": "display_data"
    },
    {
     "data": {
      "text/html": [
       "<pre style=\"white-space:pre;overflow-x:auto;line-height:normal;font-family:Menlo,'DejaVu Sans Mono',consolas,'Courier New',monospace\"></pre>\n"
      ],
      "text/plain": []
     },
     "metadata": {},
     "output_type": "display_data"
    },
    {
     "data": {
      "text/markdown": [
       "### Observation :129608332\n",
       "__Taxon:__ species - Heliconius melpomene\n",
       "\n",
       "__Common Name:__ postman\n",
       "\n",
       "![Image 129608332](https://inaturalist-open-data.s3.amazonaws.com/photos/220281033/square.jpg)\n",
       "\n",
       "[View in iNaturalist](https://www.inaturalist.org/observations/129608332)"
      ],
      "text/plain": [
       "\u001b[1m<\u001b[0m\u001b[1;95mIPython.core.display.Markdown\u001b[0m\u001b[39m object\u001b[0m\u001b[1m>\u001b[0m"
      ]
     },
     "metadata": {},
     "output_type": "display_data"
    },
    {
     "data": {
      "text/html": [
       "<pre style=\"white-space:pre;overflow-x:auto;line-height:normal;font-family:Menlo,'DejaVu Sans Mono',consolas,'Courier New',monospace\"></pre>\n"
      ],
      "text/plain": []
     },
     "metadata": {},
     "output_type": "display_data"
    },
    {
     "data": {
      "text/markdown": [
       "### Observation :100390039\n",
       "__Taxon:__ species - Heliconius melpomene\n",
       "\n",
       "__Common Name:__ postman\n",
       "\n",
       "![Image 100390039](https://inaturalist-open-data.s3.amazonaws.com/photos/167544798/square.jpeg)\n",
       "\n",
       "[View in iNaturalist](https://www.inaturalist.org/observations/100390039)"
      ],
      "text/plain": [
       "\u001b[1m<\u001b[0m\u001b[1;95mIPython.core.display.Markdown\u001b[0m\u001b[39m object\u001b[0m\u001b[1m>\u001b[0m"
      ]
     },
     "metadata": {},
     "output_type": "display_data"
    },
    {
     "data": {
      "text/html": [
       "<pre style=\"white-space:pre;overflow-x:auto;line-height:normal;font-family:Menlo,'DejaVu Sans Mono',consolas,'Courier New',monospace\"></pre>\n"
      ],
      "text/plain": []
     },
     "metadata": {},
     "output_type": "display_data"
    },
    {
     "data": {
      "text/markdown": [
       "### Observation :152502035\n",
       "__Taxon:__ species - Heliconius melpomene\n",
       "\n",
       "__Common Name:__ postman\n",
       "\n",
       "![Image 152502035](https://static.inaturalist.org/photos/263270978/square.jpeg)\n",
       "\n",
       "[View in iNaturalist](https://www.inaturalist.org/observations/152502035)"
      ],
      "text/plain": [
       "\u001b[1m<\u001b[0m\u001b[1;95mIPython.core.display.Markdown\u001b[0m\u001b[39m object\u001b[0m\u001b[1m>\u001b[0m"
      ]
     },
     "metadata": {},
     "output_type": "display_data"
    },
    {
     "data": {
      "text/html": [
       "<pre style=\"white-space:pre;overflow-x:auto;line-height:normal;font-family:Menlo,'DejaVu Sans Mono',consolas,'Courier New',monospace\"></pre>\n"
      ],
      "text/plain": []
     },
     "metadata": {},
     "output_type": "display_data"
    },
    {
     "data": {
      "text/markdown": [
       "### Observation :86622037\n",
       "__Taxon:__ species - Heliconius melpomene\n",
       "\n",
       "__Common Name:__ postman\n",
       "\n",
       "![Image 86622037](https://static.inaturalist.org/photos/142731285/square.jpeg)\n",
       "\n",
       "[View in iNaturalist](https://www.inaturalist.org/observations/86622037)"
      ],
      "text/plain": [
       "\u001b[1m<\u001b[0m\u001b[1;95mIPython.core.display.Markdown\u001b[0m\u001b[39m object\u001b[0m\u001b[1m>\u001b[0m"
      ]
     },
     "metadata": {},
     "output_type": "display_data"
    },
    {
     "data": {
      "text/html": [
       "<pre style=\"white-space:pre;overflow-x:auto;line-height:normal;font-family:Menlo,'DejaVu Sans Mono',consolas,'Courier New',monospace\"></pre>\n"
      ],
      "text/plain": []
     },
     "metadata": {},
     "output_type": "display_data"
    },
    {
     "data": {
      "text/markdown": [
       "### Observation :130155284\n",
       "__Taxon:__ species - Heliconius melpomene\n",
       "\n",
       "__Common Name:__ postman\n",
       "\n",
       "![Image 130155284](https://static.inaturalist.org/photos/221298228/square.jpeg)\n",
       "\n",
       "[View in iNaturalist](https://www.inaturalist.org/observations/130155284)"
      ],
      "text/plain": [
       "\u001b[1m<\u001b[0m\u001b[1;95mIPython.core.display.Markdown\u001b[0m\u001b[39m object\u001b[0m\u001b[1m>\u001b[0m"
      ]
     },
     "metadata": {},
     "output_type": "display_data"
    },
    {
     "data": {
      "text/html": [
       "<pre style=\"white-space:pre;overflow-x:auto;line-height:normal;font-family:Menlo,'DejaVu Sans Mono',consolas,'Courier New',monospace\"></pre>\n"
      ],
      "text/plain": []
     },
     "metadata": {},
     "output_type": "display_data"
    },
    {
     "data": {
      "text/markdown": [
       "### Observation :9211009\n",
       "__Taxon:__ subspecies - Heliconius erato phyllis\n",
       "\n",
       "__Common Name:__ nan\n",
       "\n",
       "![Image 9211009](https://static.inaturalist.org/photos/12458477/square.jpg)\n",
       "\n",
       "[View in iNaturalist](https://www.inaturalist.org/observations/9211009)"
      ],
      "text/plain": [
       "\u001b[1m<\u001b[0m\u001b[1;95mIPython.core.display.Markdown\u001b[0m\u001b[39m object\u001b[0m\u001b[1m>\u001b[0m"
      ]
     },
     "metadata": {},
     "output_type": "display_data"
    },
    {
     "data": {
      "text/html": [
       "<pre style=\"white-space:pre;overflow-x:auto;line-height:normal;font-family:Menlo,'DejaVu Sans Mono',consolas,'Courier New',monospace\"></pre>\n"
      ],
      "text/plain": []
     },
     "metadata": {},
     "output_type": "display_data"
    },
    {
     "data": {
      "text/markdown": [
       "### Observation :14803608\n",
       "__Taxon:__ subspecies - Heliconius erato phyllis\n",
       "\n",
       "__Common Name:__ nan\n",
       "\n",
       "![Image 14803608](https://static.inaturalist.org/photos/22098234/square.jpg)\n",
       "\n",
       "[View in iNaturalist](https://www.inaturalist.org/observations/14803608)"
      ],
      "text/plain": [
       "\u001b[1m<\u001b[0m\u001b[1;95mIPython.core.display.Markdown\u001b[0m\u001b[39m object\u001b[0m\u001b[1m>\u001b[0m"
      ]
     },
     "metadata": {},
     "output_type": "display_data"
    },
    {
     "data": {
      "text/html": [
       "<pre style=\"white-space:pre;overflow-x:auto;line-height:normal;font-family:Menlo,'DejaVu Sans Mono',consolas,'Courier New',monospace\"></pre>\n"
      ],
      "text/plain": []
     },
     "metadata": {},
     "output_type": "display_data"
    },
    {
     "data": {
      "text/markdown": [
       "### Observation :20012102\n",
       "__Taxon:__ subspecies - Heliconius erato phyllis\n",
       "\n",
       "__Common Name:__ nan\n",
       "\n",
       "![Image 20012102](https://inaturalist-open-data.s3.amazonaws.com/photos/30888215/square.jpg)\n",
       "\n",
       "[View in iNaturalist](https://www.inaturalist.org/observations/20012102)"
      ],
      "text/plain": [
       "\u001b[1m<\u001b[0m\u001b[1;95mIPython.core.display.Markdown\u001b[0m\u001b[39m object\u001b[0m\u001b[1m>\u001b[0m"
      ]
     },
     "metadata": {},
     "output_type": "display_data"
    },
    {
     "data": {
      "text/html": [
       "<pre style=\"white-space:pre;overflow-x:auto;line-height:normal;font-family:Menlo,'DejaVu Sans Mono',consolas,'Courier New',monospace\"></pre>\n"
      ],
      "text/plain": []
     },
     "metadata": {},
     "output_type": "display_data"
    },
    {
     "data": {
      "text/markdown": [
       "### Observation :93182621\n",
       "__Taxon:__ subspecies - Heliconius erato phyllis\n",
       "\n",
       "__Common Name:__ nan\n",
       "\n",
       "![Image 93182621](https://inaturalist-open-data.s3.amazonaws.com/photos/154402313/square.jpeg)\n",
       "\n",
       "[View in iNaturalist](https://www.inaturalist.org/observations/93182621)"
      ],
      "text/plain": [
       "\u001b[1m<\u001b[0m\u001b[1;95mIPython.core.display.Markdown\u001b[0m\u001b[39m object\u001b[0m\u001b[1m>\u001b[0m"
      ]
     },
     "metadata": {},
     "output_type": "display_data"
    },
    {
     "data": {
      "text/html": [
       "<pre style=\"white-space:pre;overflow-x:auto;line-height:normal;font-family:Menlo,'DejaVu Sans Mono',consolas,'Courier New',monospace\"></pre>\n"
      ],
      "text/plain": []
     },
     "metadata": {},
     "output_type": "display_data"
    },
    {
     "data": {
      "text/markdown": [
       "### Observation :56989132\n",
       "__Taxon:__ subspecies - Heliconius erato phyllis\n",
       "\n",
       "__Common Name:__ nan\n",
       "\n",
       "![Image 56989132](https://inaturalist-open-data.s3.amazonaws.com/photos/90863371/square.jpeg)\n",
       "\n",
       "[View in iNaturalist](https://www.inaturalist.org/observations/56989132)"
      ],
      "text/plain": [
       "\u001b[1m<\u001b[0m\u001b[1;95mIPython.core.display.Markdown\u001b[0m\u001b[39m object\u001b[0m\u001b[1m>\u001b[0m"
      ]
     },
     "metadata": {},
     "output_type": "display_data"
    },
    {
     "data": {
      "text/html": [
       "<pre style=\"white-space:pre;overflow-x:auto;line-height:normal;font-family:Menlo,'DejaVu Sans Mono',consolas,'Courier New',monospace\"></pre>\n"
      ],
      "text/plain": []
     },
     "metadata": {},
     "output_type": "display_data"
    },
    {
     "data": {
      "text/markdown": [
       "### Observation :90839002\n",
       "__Taxon:__ subspecies - Heliconius erato phyllis\n",
       "\n",
       "__Common Name:__ nan\n",
       "\n",
       "![Image 90839002](https://inaturalist-open-data.s3.amazonaws.com/photos/150170558/square.jpeg)\n",
       "\n",
       "[View in iNaturalist](https://www.inaturalist.org/observations/90839002)"
      ],
      "text/plain": [
       "\u001b[1m<\u001b[0m\u001b[1;95mIPython.core.display.Markdown\u001b[0m\u001b[39m object\u001b[0m\u001b[1m>\u001b[0m"
      ]
     },
     "metadata": {},
     "output_type": "display_data"
    },
    {
     "data": {
      "text/html": [
       "<pre style=\"white-space:pre;overflow-x:auto;line-height:normal;font-family:Menlo,'DejaVu Sans Mono',consolas,'Courier New',monospace\"></pre>\n"
      ],
      "text/plain": []
     },
     "metadata": {},
     "output_type": "display_data"
    },
    {
     "data": {
      "text/markdown": [
       "### Observation :33175366\n",
       "__Taxon:__ subspecies - Heliconius erato phyllis\n",
       "\n",
       "__Common Name:__ nan\n",
       "\n",
       "![Image 33175366](https://inaturalist-open-data.s3.amazonaws.com/photos/52082957/square.jpg)\n",
       "\n",
       "[View in iNaturalist](https://www.inaturalist.org/observations/33175366)"
      ],
      "text/plain": [
       "\u001b[1m<\u001b[0m\u001b[1;95mIPython.core.display.Markdown\u001b[0m\u001b[39m object\u001b[0m\u001b[1m>\u001b[0m"
      ]
     },
     "metadata": {},
     "output_type": "display_data"
    },
    {
     "data": {
      "text/html": [
       "<pre style=\"white-space:pre;overflow-x:auto;line-height:normal;font-family:Menlo,'DejaVu Sans Mono',consolas,'Courier New',monospace\"></pre>\n"
      ],
      "text/plain": []
     },
     "metadata": {},
     "output_type": "display_data"
    },
    {
     "data": {
      "text/markdown": [
       "### Observation :7051507\n",
       "__Taxon:__ subspecies - Heliconius erato phyllis\n",
       "\n",
       "__Common Name:__ nan\n",
       "\n",
       "![Image 7051507](https://static.inaturalist.org/photos/9050163/square.jpg)\n",
       "\n",
       "[View in iNaturalist](https://www.inaturalist.org/observations/7051507)"
      ],
      "text/plain": [
       "\u001b[1m<\u001b[0m\u001b[1;95mIPython.core.display.Markdown\u001b[0m\u001b[39m object\u001b[0m\u001b[1m>\u001b[0m"
      ]
     },
     "metadata": {},
     "output_type": "display_data"
    },
    {
     "data": {
      "text/html": [
       "<pre style=\"white-space:pre;overflow-x:auto;line-height:normal;font-family:Menlo,'DejaVu Sans Mono',consolas,'Courier New',monospace\"></pre>\n"
      ],
      "text/plain": []
     },
     "metadata": {},
     "output_type": "display_data"
    },
    {
     "data": {
      "text/markdown": [
       "### Observation :4611620\n",
       "__Taxon:__ subspecies - Heliconius erato phyllis\n",
       "\n",
       "__Common Name:__ nan\n",
       "\n",
       "![Image 4611620](https://inaturalist-open-data.s3.amazonaws.com/photos/5578305/square.jpg)\n",
       "\n",
       "[View in iNaturalist](https://www.inaturalist.org/observations/4611620)"
      ],
      "text/plain": [
       "\u001b[1m<\u001b[0m\u001b[1;95mIPython.core.display.Markdown\u001b[0m\u001b[39m object\u001b[0m\u001b[1m>\u001b[0m"
      ]
     },
     "metadata": {},
     "output_type": "display_data"
    },
    {
     "data": {
      "text/html": [
       "<pre style=\"white-space:pre;overflow-x:auto;line-height:normal;font-family:Menlo,'DejaVu Sans Mono',consolas,'Courier New',monospace\"></pre>\n"
      ],
      "text/plain": []
     },
     "metadata": {},
     "output_type": "display_data"
    },
    {
     "data": {
      "text/markdown": [
       "### Observation :31895630\n",
       "__Taxon:__ subspecies - Heliconius erato phyllis\n",
       "\n",
       "__Common Name:__ nan\n",
       "\n",
       "![Image 31895630](https://inaturalist-open-data.s3.amazonaws.com/photos/49969332/square.jpeg)\n",
       "\n",
       "[View in iNaturalist](https://www.inaturalist.org/observations/31895630)"
      ],
      "text/plain": [
       "\u001b[1m<\u001b[0m\u001b[1;95mIPython.core.display.Markdown\u001b[0m\u001b[39m object\u001b[0m\u001b[1m>\u001b[0m"
      ]
     },
     "metadata": {},
     "output_type": "display_data"
    }
   ],
   "source": [
    "df = pd.read_csv(images_filename)\n",
    "for index, row in df.iterrows():\n",
    "    obs_id = row['id']\n",
    "    url = row['square_url']\n",
    "    taxon_rank = row['taxon_rank']\n",
    "    taxon_name = row['taxon_name']\n",
    "    preferred_common_name = row['preferred_common_name']\n",
    "    all = row['all']\n",
    "    header = f\"### Observation :{obs_id}\"\n",
    "    subheader = f\"__Taxon:__ {taxon_rank} - {taxon_name}\\n\\n__Common Name:__ {preferred_common_name}\"\n",
    "    image_md = f\"![Image {obs_id}]({url})\"\n",
    "    link_md = f\"[View in iNaturalist](https://www.inaturalist.org/observations/{obs_id})\"\n",
    "    #footer = f\"{all}\"\n",
    "    markdown = f\"{header}\\n{subheader}\\n\\n{image_md}\\n\\n{link_md}\"\n",
    "    display(Markdown(markdown))"
   ]
  },
  {
   "cell_type": "markdown",
   "id": "78e3a5bf-a2dc-43de-9ec8-7dcc467ce581",
   "metadata": {},
   "source": [
    "## Ask OpenAI for a species name guess for each image"
   ]
  },
  {
   "cell_type": "code",
   "execution_count": 5,
   "id": "becdcf37-5a10-4f4e-961a-bea9073db5f4",
   "metadata": {
    "scrolled": true
   },
   "outputs": [],
   "source": [
    "prompt = \"What is your best guess for the species name in this image? Return two items: the species name and an explaination your reasoning.\"\n",
    "client = OpenAI( api_key=os.getenv(\"OPEN_API_KEY\"))\n",
    "guesses = []\n",
    "for index, row in df.iterrows():\n",
    "    url = row['medium_url']\n",
    "    response = client.chat.completions.create(\n",
    "        model=open_ai_model,\n",
    "        messages=[\n",
    "            {\n",
    "                \"role\": \"user\",\n",
    "                \"content\": [\n",
    "                    {\"type\": \"text\", \"text\": prompt},\n",
    "                    {\n",
    "                        \"type\": \"image_url\",\n",
    "                        \"image_url\": url,\n",
    "                    },\n",
    "                ],\n",
    "            }\n",
    "        ],\n",
    "        max_tokens=300,\n",
    "    )\n",
    "    result = response.choices[0].message.content\n",
    "    guesses.append(result)\n",
    "    \n",
    "\n",
    "df['guess'] = guesses\n",
    "df.to_csv(images_guess_filename, index=False)"
   ]
  },
  {
   "cell_type": "markdown",
   "id": "4bd2d13b-0a45-41b8-b9a3-369e5b4654d1",
   "metadata": {},
   "source": [
    "## Show Final Results "
   ]
  },
  {
   "cell_type": "code",
   "execution_count": 7,
   "id": "de2609bd-c206-40d2-9606-19ede56bca77",
   "metadata": {},
   "outputs": [
    {
     "data": {
      "text/html": [
       "<pre style=\"white-space:pre;overflow-x:auto;line-height:normal;font-family:Menlo,'DejaVu Sans Mono',consolas,'Courier New',monospace\"></pre>\n"
      ],
      "text/plain": []
     },
     "metadata": {},
     "output_type": "display_data"
    },
    {
     "data": {
      "text/markdown": [
       "### Observation: 188862491\n",
       "\n",
       "[View in iNaturalist](https://www.inaturalist.org/observations/188862491)\n",
       "\n",
       "![Image 188862491](https://static.inaturalist.org/photos/330679490/medium.jpg)\n",
       "\n",
       "#### iNaturalist\n",
       "\n",
       "__Taxon:__ species - Heliconius melpomene\n",
       "\n",
       "__Common Name:__ postman\n",
       "\n",
       "#### OpenAI\n",
       "\n",
       " Species Name: Heliconius melpomene (Postman butterfly)\n",
       "\n",
       "Explanation: The butterfly in this image has the distinctive color pattern and wing shape characteristic of the Heliconius melpomene, commonly known as the Postman butterfly. It typically has red bands on its black wings and white spots near the tips, which is consistent with the individual shown in the image. Heliconius butterflies are known for their bright colors and elongated wings, and they are often found in neotropical regions such as Central and South America."
      ],
      "text/plain": [
       "\u001b[1m<\u001b[0m\u001b[1;95mIPython.core.display.Markdown\u001b[0m\u001b[39m object\u001b[0m\u001b[1m>\u001b[0m"
      ]
     },
     "metadata": {},
     "output_type": "display_data"
    },
    {
     "data": {
      "text/html": [
       "<pre style=\"white-space:pre;overflow-x:auto;line-height:normal;font-family:Menlo,'DejaVu Sans Mono',consolas,'Courier New',monospace\"></pre>\n"
      ],
      "text/plain": []
     },
     "metadata": {},
     "output_type": "display_data"
    },
    {
     "data": {
      "text/markdown": [
       "### Observation: 163448200\n",
       "\n",
       "[View in iNaturalist](https://www.inaturalist.org/observations/163448200)\n",
       "\n",
       "![Image 163448200](https://inaturalist-open-data.s3.amazonaws.com/photos/282700998/medium.jpeg)\n",
       "\n",
       "#### iNaturalist\n",
       "\n",
       "__Taxon:__ species - Heliconius melpomene\n",
       "\n",
       "__Common Name:__ postman\n",
       "\n",
       "#### OpenAI\n",
       "\n",
       " Species Name: Heliconius hecale\n",
       "\n",
       "Explanation: The butterfly in the image appears to be a member of the genus Heliconius, which is a diverse and brightly colored group of butterflies commonly known as longwings or heliconians. This particular butterfly resembles the species Heliconius hecale based on its wing pattern: bright orange with black vein markings and white spots near the tips of its wings. However, it's important to note that butterfly identification can be complex due to the existence of many similar-looking species and subspecies, along with regional variations in color and pattern. Therefore, without more detailed information or examination by a lepidopterist, identifying the exact species from an image alone is not always definitive."
      ],
      "text/plain": [
       "\u001b[1m<\u001b[0m\u001b[1;95mIPython.core.display.Markdown\u001b[0m\u001b[39m object\u001b[0m\u001b[1m>\u001b[0m"
      ]
     },
     "metadata": {},
     "output_type": "display_data"
    },
    {
     "data": {
      "text/html": [
       "<pre style=\"white-space:pre;overflow-x:auto;line-height:normal;font-family:Menlo,'DejaVu Sans Mono',consolas,'Courier New',monospace\"></pre>\n"
      ],
      "text/plain": []
     },
     "metadata": {},
     "output_type": "display_data"
    },
    {
     "data": {
      "text/markdown": [
       "### Observation: 117599476\n",
       "\n",
       "[View in iNaturalist](https://www.inaturalist.org/observations/117599476)\n",
       "\n",
       "![Image 117599476](https://static.inaturalist.org/photos/198626178/medium.jpeg)\n",
       "\n",
       "#### iNaturalist\n",
       "\n",
       "__Taxon:__ species - Heliconius melpomene\n",
       "\n",
       "__Common Name:__ postman\n",
       "\n",
       "#### OpenAI\n",
       "\n",
       " The species in this image appears to be the Heliconius melpomene, commonly known as the Postman butterfly. This identification is based on the distinctive orange and black wing pattern, which is characteristic of this species. Heliconius butterflies are known for their wing patterns and color variations that can signal distastefulness to predators and often involve mimicry. The Postman butterfly, in particular, has wing patterns that can vary significantly across different geographic ranges but typically features these bright contrasting colors."
      ],
      "text/plain": [
       "\u001b[1m<\u001b[0m\u001b[1;95mIPython.core.display.Markdown\u001b[0m\u001b[39m object\u001b[0m\u001b[1m>\u001b[0m"
      ]
     },
     "metadata": {},
     "output_type": "display_data"
    },
    {
     "data": {
      "text/html": [
       "<pre style=\"white-space:pre;overflow-x:auto;line-height:normal;font-family:Menlo,'DejaVu Sans Mono',consolas,'Courier New',monospace\"></pre>\n"
      ],
      "text/plain": []
     },
     "metadata": {},
     "output_type": "display_data"
    },
    {
     "data": {
      "text/markdown": [
       "### Observation: 26130378\n",
       "\n",
       "[View in iNaturalist](https://www.inaturalist.org/observations/26130378)\n",
       "\n",
       "![Image 26130378](https://inaturalist-open-data.s3.amazonaws.com/photos/40544729/medium.jpeg)\n",
       "\n",
       "#### iNaturalist\n",
       "\n",
       "__Taxon:__ species - Heliconius melpomene\n",
       "\n",
       "__Common Name:__ postman\n",
       "\n",
       "#### OpenAI\n",
       "\n",
       " Species Name: Heliconius melpomene (Postman butterfly)\n",
       "\n",
       "Explanation: The butterfly in the image has distinctive wings with black as the primary color and bright red bands near the edge of the wings. This color pattern is characteristic of the Heliconius genus, particularly the Heliconius melpomene, commonly known as the Postman butterfly. The species is known for its extensive variety in wing patterns, caused by mimicry, but the combination of black with red bands is one of the more recognized and widespread patterns, which supports the identification as Heliconius melpomene."
      ],
      "text/plain": [
       "\u001b[1m<\u001b[0m\u001b[1;95mIPython.core.display.Markdown\u001b[0m\u001b[39m object\u001b[0m\u001b[1m>\u001b[0m"
      ]
     },
     "metadata": {},
     "output_type": "display_data"
    },
    {
     "data": {
      "text/html": [
       "<pre style=\"white-space:pre;overflow-x:auto;line-height:normal;font-family:Menlo,'DejaVu Sans Mono',consolas,'Courier New',monospace\"></pre>\n"
      ],
      "text/plain": []
     },
     "metadata": {},
     "output_type": "display_data"
    },
    {
     "data": {
      "text/markdown": [
       "### Observation: 101226538\n",
       "\n",
       "[View in iNaturalist](https://www.inaturalist.org/observations/101226538)\n",
       "\n",
       "![Image 101226538](https://inaturalist-open-data.s3.amazonaws.com/photos/169023221/medium.jpg)\n",
       "\n",
       "#### iNaturalist\n",
       "\n",
       "__Taxon:__ species - Heliconius melpomene\n",
       "\n",
       "__Common Name:__ postman\n",
       "\n",
       "#### OpenAI\n",
       "\n",
       " Species Name: Heliconius melpomene\n",
       "\n",
       "Explanation: The butterfly in the image exhibits wing coloration and patterns characteristic of the Heliconius genus, specifically the species Heliconius melpomene, commonly known as the Postman butterfly. The Postman butterfly typically has black wings with distinctive red or pink bands and white spots, which are visible in the image. The species is found throughout Central and South America and is known for its mimicry and Müllerian mimicry complexes with other species. Please note that without a region or more precise identification markers, this is a best guess based on common visual characteristics. There are other similar species in the Heliconius genus and other genera that may appear quite similar."
      ],
      "text/plain": [
       "\u001b[1m<\u001b[0m\u001b[1;95mIPython.core.display.Markdown\u001b[0m\u001b[39m object\u001b[0m\u001b[1m>\u001b[0m"
      ]
     },
     "metadata": {},
     "output_type": "display_data"
    },
    {
     "data": {
      "text/html": [
       "<pre style=\"white-space:pre;overflow-x:auto;line-height:normal;font-family:Menlo,'DejaVu Sans Mono',consolas,'Courier New',monospace\"></pre>\n"
      ],
      "text/plain": []
     },
     "metadata": {},
     "output_type": "display_data"
    },
    {
     "data": {
      "text/markdown": [
       "### Observation: 129608332\n",
       "\n",
       "[View in iNaturalist](https://www.inaturalist.org/observations/129608332)\n",
       "\n",
       "![Image 129608332](https://inaturalist-open-data.s3.amazonaws.com/photos/220281033/medium.jpg)\n",
       "\n",
       "#### iNaturalist\n",
       "\n",
       "__Taxon:__ species - Heliconius melpomene\n",
       "\n",
       "__Common Name:__ postman\n",
       "\n",
       "#### OpenAI\n",
       "\n",
       " Species Name: Heliconius melpomene, commonly known as the Postman butterfly.\n",
       "\n",
       "Reasoning: The distinctive orange, black, and white coloration and wing pattern, along with the elongated forewings, are characteristic of the Heliconius melpomene. This species is part of a group of butterflies that are noted for their Müllerian mimicry, where several species share a similar coloration to signal their unpalatability to predators. The Postman butterfly is found in Central and South America and is one of the most extensively studied butterflies in terms of its ecology and evolution."
      ],
      "text/plain": [
       "\u001b[1m<\u001b[0m\u001b[1;95mIPython.core.display.Markdown\u001b[0m\u001b[39m object\u001b[0m\u001b[1m>\u001b[0m"
      ]
     },
     "metadata": {},
     "output_type": "display_data"
    },
    {
     "data": {
      "text/html": [
       "<pre style=\"white-space:pre;overflow-x:auto;line-height:normal;font-family:Menlo,'DejaVu Sans Mono',consolas,'Courier New',monospace\"></pre>\n"
      ],
      "text/plain": []
     },
     "metadata": {},
     "output_type": "display_data"
    },
    {
     "data": {
      "text/markdown": [
       "### Observation: 100390039\n",
       "\n",
       "[View in iNaturalist](https://www.inaturalist.org/observations/100390039)\n",
       "\n",
       "![Image 100390039](https://inaturalist-open-data.s3.amazonaws.com/photos/167544798/medium.jpeg)\n",
       "\n",
       "#### iNaturalist\n",
       "\n",
       "__Taxon:__ species - Heliconius melpomene\n",
       "\n",
       "__Common Name:__ postman\n",
       "\n",
       "#### OpenAI\n",
       "\n",
       " Species name: Heliconius erato\n",
       "\n",
       "Explanation: The image depicts a butterfly with distinctive black wings featuring red/orange patterns. This butterfly closely resembles the Heliconius erato, which is also known as the Red Postman. Heliconius butterflies are characterized by their long wings, vibrant color patterns, and their occurrence in neotropical regions. It's important to note, however, that exact species identification from photos can be challenging as there are many species with similar markings, and the Heliconius genus, in particular, is known for its mimicry and polymorphism. My identification is based on visible wing patterns that are common to Heliconius erato, but for a definitive species identification, a closer examination by an expert would be necessary."
      ],
      "text/plain": [
       "\u001b[1m<\u001b[0m\u001b[1;95mIPython.core.display.Markdown\u001b[0m\u001b[39m object\u001b[0m\u001b[1m>\u001b[0m"
      ]
     },
     "metadata": {},
     "output_type": "display_data"
    },
    {
     "data": {
      "text/html": [
       "<pre style=\"white-space:pre;overflow-x:auto;line-height:normal;font-family:Menlo,'DejaVu Sans Mono',consolas,'Courier New',monospace\"></pre>\n"
      ],
      "text/plain": []
     },
     "metadata": {},
     "output_type": "display_data"
    },
    {
     "data": {
      "text/markdown": [
       "### Observation: 152502035\n",
       "\n",
       "[View in iNaturalist](https://www.inaturalist.org/observations/152502035)\n",
       "\n",
       "![Image 152502035](https://static.inaturalist.org/photos/263270978/medium.jpeg)\n",
       "\n",
       "#### iNaturalist\n",
       "\n",
       "__Taxon:__ species - Heliconius melpomene\n",
       "\n",
       "__Common Name:__ postman\n",
       "\n",
       "#### OpenAI\n",
       "\n",
       " Species Name: Heliconius melpomene\n",
       "\n",
       "Explanation: This butterfly, with its distinctive black wings featuring a horizontal red band and white stripes, is commonly known as the Postman butterfly, part of the species Heliconius melpomene. It is native to Central and South America, and its color pattern serves as an evolutionary adaptation for mimicry and warning predators of its unpalatability. There are numerous subspecies and morphs of the Heliconius butterflies that look similar, but the red band on the wings is quite characteristic of Heliconius melpomene."
      ],
      "text/plain": [
       "\u001b[1m<\u001b[0m\u001b[1;95mIPython.core.display.Markdown\u001b[0m\u001b[39m object\u001b[0m\u001b[1m>\u001b[0m"
      ]
     },
     "metadata": {},
     "output_type": "display_data"
    },
    {
     "data": {
      "text/html": [
       "<pre style=\"white-space:pre;overflow-x:auto;line-height:normal;font-family:Menlo,'DejaVu Sans Mono',consolas,'Courier New',monospace\"></pre>\n"
      ],
      "text/plain": []
     },
     "metadata": {},
     "output_type": "display_data"
    },
    {
     "data": {
      "text/markdown": [
       "### Observation: 86622037\n",
       "\n",
       "[View in iNaturalist](https://www.inaturalist.org/observations/86622037)\n",
       "\n",
       "![Image 86622037](https://static.inaturalist.org/photos/142731285/medium.jpeg)\n",
       "\n",
       "#### iNaturalist\n",
       "\n",
       "__Taxon:__ species - Heliconius melpomene\n",
       "\n",
       "__Common Name:__ postman\n",
       "\n",
       "#### OpenAI\n",
       "\n",
       " Species Name: Heliconius melpomene\n",
       "\n",
       "Explanation: The butterfly in the image has distinctive red and black coloration with white spots on the tips of its wings. This color pattern is characteristic of the Heliconius melpomene, which is commonly known as the Postman butterfly, inclusive of several subspecies with similar patterning. The Postman butterfly is part of the Heliconiinae subfamily and is known for its mimicry and its role in Müllerian mimicry complexes, where several species share a common predator warning signal."
      ],
      "text/plain": [
       "\u001b[1m<\u001b[0m\u001b[1;95mIPython.core.display.Markdown\u001b[0m\u001b[39m object\u001b[0m\u001b[1m>\u001b[0m"
      ]
     },
     "metadata": {},
     "output_type": "display_data"
    },
    {
     "data": {
      "text/html": [
       "<pre style=\"white-space:pre;overflow-x:auto;line-height:normal;font-family:Menlo,'DejaVu Sans Mono',consolas,'Courier New',monospace\"></pre>\n"
      ],
      "text/plain": []
     },
     "metadata": {},
     "output_type": "display_data"
    },
    {
     "data": {
      "text/markdown": [
       "### Observation: 130155284\n",
       "\n",
       "[View in iNaturalist](https://www.inaturalist.org/observations/130155284)\n",
       "\n",
       "![Image 130155284](https://static.inaturalist.org/photos/221298228/medium.jpeg)\n",
       "\n",
       "#### iNaturalist\n",
       "\n",
       "__Taxon:__ species - Heliconius melpomene\n",
       "\n",
       "__Common Name:__ postman\n",
       "\n",
       "#### OpenAI\n",
       "\n",
       " Species name: Heliconius erato\n",
       "\n",
       "Explanation: Based on the pattern and colors of the butterfly's wings, it appears to be a Heliconius erato, also known as the red postman butterfly. This species is known for its distinctive longitudinal stripes which can be red or pinkish in other subspecies, and the small patches of white or creamy color on a predominantly black wing. These butterflies are common in Central and South America and part of North America and are often studied for their mimicry and wing patterns."
      ],
      "text/plain": [
       "\u001b[1m<\u001b[0m\u001b[1;95mIPython.core.display.Markdown\u001b[0m\u001b[39m object\u001b[0m\u001b[1m>\u001b[0m"
      ]
     },
     "metadata": {},
     "output_type": "display_data"
    },
    {
     "data": {
      "text/html": [
       "<pre style=\"white-space:pre;overflow-x:auto;line-height:normal;font-family:Menlo,'DejaVu Sans Mono',consolas,'Courier New',monospace\"></pre>\n"
      ],
      "text/plain": []
     },
     "metadata": {},
     "output_type": "display_data"
    },
    {
     "data": {
      "text/markdown": [
       "### Observation: 9211009\n",
       "\n",
       "[View in iNaturalist](https://www.inaturalist.org/observations/9211009)\n",
       "\n",
       "![Image 9211009](https://static.inaturalist.org/photos/12458477/medium.jpg)\n",
       "\n",
       "#### iNaturalist\n",
       "\n",
       "__Taxon:__ subspecies - Heliconius erato phyllis\n",
       "\n",
       "__Common Name:__ nan\n",
       "\n",
       "#### OpenAI\n",
       "\n",
       " Species Name: Heliconius melpomene, commonly known as the Postman butterfly.\n",
       "\n",
       "Explanation: This butterfly belongs to the genus Heliconius and is characterized by its distinctive wing patterns, which include bright coloration with bands or patches of contrasting colors—typical of Heliconius species. Heliconius melpomene is widely recognized for its red and black wing pattern with white spots on the upper wings and sometimes variations with a yellow band. The broad red bands on the black wings with white spots in this image are indicative of this particular species' pattern, which is an example of Müllerian mimicry, where multiple species share a similar warning coloration to deter predators."
      ],
      "text/plain": [
       "\u001b[1m<\u001b[0m\u001b[1;95mIPython.core.display.Markdown\u001b[0m\u001b[39m object\u001b[0m\u001b[1m>\u001b[0m"
      ]
     },
     "metadata": {},
     "output_type": "display_data"
    },
    {
     "data": {
      "text/html": [
       "<pre style=\"white-space:pre;overflow-x:auto;line-height:normal;font-family:Menlo,'DejaVu Sans Mono',consolas,'Courier New',monospace\"></pre>\n"
      ],
      "text/plain": []
     },
     "metadata": {},
     "output_type": "display_data"
    },
    {
     "data": {
      "text/markdown": [
       "### Observation: 14803608\n",
       "\n",
       "[View in iNaturalist](https://www.inaturalist.org/observations/14803608)\n",
       "\n",
       "![Image 14803608](https://static.inaturalist.org/photos/22098234/medium.jpg)\n",
       "\n",
       "#### iNaturalist\n",
       "\n",
       "__Taxon:__ subspecies - Heliconius erato phyllis\n",
       "\n",
       "__Common Name:__ nan\n",
       "\n",
       "#### OpenAI\n",
       "\n",
       " Species name: It is not possible to provide an exact species name from this image.\n",
       "\n",
       "Explanation: The image showcases a plant with green and purple leaves, but without a close-up view of distinctive features such as flowers, fruit, or a full view of the leaf shape, venation, and arrangement, it is difficult to accurately identify the species. Additionally, the lack of context or region where the photo was taken makes it challenging to narrow down the possibilities, as plant species identification often depends on a comprehensive understanding of the local flora. If you are looking to identify this plant, I recommend consulting a local field guide or a botanist with knowledge of the area's native and cultivated plants."
      ],
      "text/plain": [
       "\u001b[1m<\u001b[0m\u001b[1;95mIPython.core.display.Markdown\u001b[0m\u001b[39m object\u001b[0m\u001b[1m>\u001b[0m"
      ]
     },
     "metadata": {},
     "output_type": "display_data"
    },
    {
     "data": {
      "text/html": [
       "<pre style=\"white-space:pre;overflow-x:auto;line-height:normal;font-family:Menlo,'DejaVu Sans Mono',consolas,'Courier New',monospace\"></pre>\n"
      ],
      "text/plain": []
     },
     "metadata": {},
     "output_type": "display_data"
    },
    {
     "data": {
      "text/markdown": [
       "### Observation: 20012102\n",
       "\n",
       "[View in iNaturalist](https://www.inaturalist.org/observations/20012102)\n",
       "\n",
       "![Image 20012102](https://inaturalist-open-data.s3.amazonaws.com/photos/30888215/medium.jpg)\n",
       "\n",
       "#### iNaturalist\n",
       "\n",
       "__Taxon:__ subspecies - Heliconius erato phyllis\n",
       "\n",
       "__Common Name:__ nan\n",
       "\n",
       "#### OpenAI\n",
       "\n",
       " Species name: Heliconius hecale\n",
       "\n",
       "Explanation: This butterfly is identifiable by its long wings and distinctive coloration. The genus Heliconius is known for its brightly colored wings and variety of patterns, often involving black with other bright colors like orange, red, or yellow. This specific species, Heliconius hecale, commonly known as the Tiger Longwing, Hecale Longwing, Golden Longwing, or Golden Heliconian, often has black wings with bright yellow or orange patches. The wing shape and patterning in this image are characteristic of that species."
      ],
      "text/plain": [
       "\u001b[1m<\u001b[0m\u001b[1;95mIPython.core.display.Markdown\u001b[0m\u001b[39m object\u001b[0m\u001b[1m>\u001b[0m"
      ]
     },
     "metadata": {},
     "output_type": "display_data"
    },
    {
     "data": {
      "text/html": [
       "<pre style=\"white-space:pre;overflow-x:auto;line-height:normal;font-family:Menlo,'DejaVu Sans Mono',consolas,'Courier New',monospace\"></pre>\n"
      ],
      "text/plain": []
     },
     "metadata": {},
     "output_type": "display_data"
    },
    {
     "data": {
      "text/markdown": [
       "### Observation: 93182621\n",
       "\n",
       "[View in iNaturalist](https://www.inaturalist.org/observations/93182621)\n",
       "\n",
       "![Image 93182621](https://inaturalist-open-data.s3.amazonaws.com/photos/154402313/medium.jpeg)\n",
       "\n",
       "#### iNaturalist\n",
       "\n",
       "__Taxon:__ subspecies - Heliconius erato phyllis\n",
       "\n",
       "__Common Name:__ nan\n",
       "\n",
       "#### OpenAI\n",
       "\n",
       " Species name: Heliconius melpomene (Postman butterfly)\n",
       "\n",
       "Explanation: The butterfly in the image appears to have elongated wings with distinctive red bands on a black background, which is characteristic of the Postman butterfly, also known scientifically as Heliconius melpomene. This species is one of the heliconiine butterflies found in Central and South America and is known for its Müllerian mimicry, which means it shares a common aposematic pattern with other species to signal unpalatability to predators."
      ],
      "text/plain": [
       "\u001b[1m<\u001b[0m\u001b[1;95mIPython.core.display.Markdown\u001b[0m\u001b[39m object\u001b[0m\u001b[1m>\u001b[0m"
      ]
     },
     "metadata": {},
     "output_type": "display_data"
    },
    {
     "data": {
      "text/html": [
       "<pre style=\"white-space:pre;overflow-x:auto;line-height:normal;font-family:Menlo,'DejaVu Sans Mono',consolas,'Courier New',monospace\"></pre>\n"
      ],
      "text/plain": []
     },
     "metadata": {},
     "output_type": "display_data"
    },
    {
     "data": {
      "text/markdown": [
       "### Observation: 56989132\n",
       "\n",
       "[View in iNaturalist](https://www.inaturalist.org/observations/56989132)\n",
       "\n",
       "![Image 56989132](https://inaturalist-open-data.s3.amazonaws.com/photos/90863371/medium.jpeg)\n",
       "\n",
       "#### iNaturalist\n",
       "\n",
       "__Taxon:__ subspecies - Heliconius erato phyllis\n",
       "\n",
       "__Common Name:__ nan\n",
       "\n",
       "#### OpenAI\n",
       "\n",
       " Species Name: Heliconius erato\n",
       "\n",
       "Explanation: The butterfly in the image has a distinctive wing pattern characterized by long, black wings with prominent red or pink bands and white spots, which is indicative of the Heliconius genus. In particular, the Heliconius erato, commonly known as the Red Postman, is known for such patterns. The presence of these colorations, along with the geographic range of this species, makes it a likely candidate. However, this identification should be considered tentative without a more detailed examination by an expert, as there are other butterflies with similar patterns that might be confused with Heliconius erato."
      ],
      "text/plain": [
       "\u001b[1m<\u001b[0m\u001b[1;95mIPython.core.display.Markdown\u001b[0m\u001b[39m object\u001b[0m\u001b[1m>\u001b[0m"
      ]
     },
     "metadata": {},
     "output_type": "display_data"
    },
    {
     "data": {
      "text/html": [
       "<pre style=\"white-space:pre;overflow-x:auto;line-height:normal;font-family:Menlo,'DejaVu Sans Mono',consolas,'Courier New',monospace\"></pre>\n"
      ],
      "text/plain": []
     },
     "metadata": {},
     "output_type": "display_data"
    },
    {
     "data": {
      "text/markdown": [
       "### Observation: 90839002\n",
       "\n",
       "[View in iNaturalist](https://www.inaturalist.org/observations/90839002)\n",
       "\n",
       "![Image 90839002](https://inaturalist-open-data.s3.amazonaws.com/photos/150170558/medium.jpeg)\n",
       "\n",
       "#### iNaturalist\n",
       "\n",
       "__Taxon:__ subspecies - Heliconius erato phyllis\n",
       "\n",
       "__Common Name:__ nan\n",
       "\n",
       "#### OpenAI\n",
       "\n",
       " Species name: Heliconius melpomene (Postman butterfly)\n",
       "\n",
       "Explanation: Based on the photo provided, this butterfly has wings that are predominantly black with bright red bands on the hindwings and smaller red markings on the forewings. This pattern is characteristic of the Heliconius melpomene, also known as the Postman butterfly, which is part of the Heliconiinae subfamily and commonly found in Central and South America. There are various subspecies of Heliconius butterflies with similar patterns, so absolute identification from an image alone may not be precise; professional confirmation would involve assessment of the butterfly's morphology and geographic location."
      ],
      "text/plain": [
       "\u001b[1m<\u001b[0m\u001b[1;95mIPython.core.display.Markdown\u001b[0m\u001b[39m object\u001b[0m\u001b[1m>\u001b[0m"
      ]
     },
     "metadata": {},
     "output_type": "display_data"
    },
    {
     "data": {
      "text/html": [
       "<pre style=\"white-space:pre;overflow-x:auto;line-height:normal;font-family:Menlo,'DejaVu Sans Mono',consolas,'Courier New',monospace\"></pre>\n"
      ],
      "text/plain": []
     },
     "metadata": {},
     "output_type": "display_data"
    },
    {
     "data": {
      "text/markdown": [
       "### Observation: 33175366\n",
       "\n",
       "[View in iNaturalist](https://www.inaturalist.org/observations/33175366)\n",
       "\n",
       "![Image 33175366](https://inaturalist-open-data.s3.amazonaws.com/photos/52082957/medium.jpg)\n",
       "\n",
       "#### iNaturalist\n",
       "\n",
       "__Taxon:__ subspecies - Heliconius erato phyllis\n",
       "\n",
       "__Common Name:__ nan\n",
       "\n",
       "#### OpenAI\n",
       "\n",
       " Species Name: Heliconius melpomene (Postman butterfly)\n",
       "\n",
       "Explanation: The butterfly in the image has distinct wing patterns that are characteristic of the Heliconius genus, commonly known as the longwing butterflies. The Postman butterfly, specifically, has black wings with red and white or yellow markings. The wing shape and the color pattern with the red band on the hindwing extending onto the forewing are indicative of the Heliconius melpomene. This species is known for its variety of wing patterns and is commonly found in Central and South America, where it frequents various habitats."
      ],
      "text/plain": [
       "\u001b[1m<\u001b[0m\u001b[1;95mIPython.core.display.Markdown\u001b[0m\u001b[39m object\u001b[0m\u001b[1m>\u001b[0m"
      ]
     },
     "metadata": {},
     "output_type": "display_data"
    },
    {
     "data": {
      "text/html": [
       "<pre style=\"white-space:pre;overflow-x:auto;line-height:normal;font-family:Menlo,'DejaVu Sans Mono',consolas,'Courier New',monospace\"></pre>\n"
      ],
      "text/plain": []
     },
     "metadata": {},
     "output_type": "display_data"
    },
    {
     "data": {
      "text/markdown": [
       "### Observation: 7051507\n",
       "\n",
       "[View in iNaturalist](https://www.inaturalist.org/observations/7051507)\n",
       "\n",
       "![Image 7051507](https://static.inaturalist.org/photos/9050163/medium.jpg)\n",
       "\n",
       "#### iNaturalist\n",
       "\n",
       "__Taxon:__ subspecies - Heliconius erato phyllis\n",
       "\n",
       "__Common Name:__ nan\n",
       "\n",
       "#### OpenAI\n",
       "\n",
       " Species name: Heliconius melpomene (Postman butterfly)\n",
       "\n",
       "Explanation: The butterfly in the image has striking black wings with bright red bands and white or yellow spots, which is characteristic of the Heliconius genus, commonly known as the longwings or heliconians. The Heliconius melpomene, in particular, is well-known for this pattern. Additionally, the butterfly is shown feeding on Lantana flowers, which are common nectar sources for many butterfly species in tropical and subtropical regions where Heliconius butterflies are found. Identification should always be tentative without being able to examine the specimen closely, as there are many similar species and regional varieties, but the color and pattern are a solid starting point for identifying this species."
      ],
      "text/plain": [
       "\u001b[1m<\u001b[0m\u001b[1;95mIPython.core.display.Markdown\u001b[0m\u001b[39m object\u001b[0m\u001b[1m>\u001b[0m"
      ]
     },
     "metadata": {},
     "output_type": "display_data"
    },
    {
     "data": {
      "text/html": [
       "<pre style=\"white-space:pre;overflow-x:auto;line-height:normal;font-family:Menlo,'DejaVu Sans Mono',consolas,'Courier New',monospace\"></pre>\n"
      ],
      "text/plain": []
     },
     "metadata": {},
     "output_type": "display_data"
    },
    {
     "data": {
      "text/markdown": [
       "### Observation: 4611620\n",
       "\n",
       "[View in iNaturalist](https://www.inaturalist.org/observations/4611620)\n",
       "\n",
       "![Image 4611620](https://inaturalist-open-data.s3.amazonaws.com/photos/5578305/medium.jpg)\n",
       "\n",
       "#### iNaturalist\n",
       "\n",
       "__Taxon:__ subspecies - Heliconius erato phyllis\n",
       "\n",
       "__Common Name:__ nan\n",
       "\n",
       "#### OpenAI\n",
       "\n",
       " Species Name: Heliconius melpomene (Postman butterfly)\n",
       "\n",
       "Explanation: The butterfly in the image displays a wing pattern commonly associated with the species Heliconius melpomene, which is part of the broader group of butterflies often referred to as \"longwings\" or \"Heliconians.\" This species is known for its mimicry and variation in wing patterns across different geographic locations, but the distinctive red bands on its black wings, seen in the image, are characteristic of the Postman butterfly."
      ],
      "text/plain": [
       "\u001b[1m<\u001b[0m\u001b[1;95mIPython.core.display.Markdown\u001b[0m\u001b[39m object\u001b[0m\u001b[1m>\u001b[0m"
      ]
     },
     "metadata": {},
     "output_type": "display_data"
    },
    {
     "data": {
      "text/html": [
       "<pre style=\"white-space:pre;overflow-x:auto;line-height:normal;font-family:Menlo,'DejaVu Sans Mono',consolas,'Courier New',monospace\"></pre>\n"
      ],
      "text/plain": []
     },
     "metadata": {},
     "output_type": "display_data"
    },
    {
     "data": {
      "text/markdown": [
       "### Observation: 31895630\n",
       "\n",
       "[View in iNaturalist](https://www.inaturalist.org/observations/31895630)\n",
       "\n",
       "![Image 31895630](https://inaturalist-open-data.s3.amazonaws.com/photos/49969332/medium.jpeg)\n",
       "\n",
       "#### iNaturalist\n",
       "\n",
       "__Taxon:__ subspecies - Heliconius erato phyllis\n",
       "\n",
       "__Common Name:__ nan\n",
       "\n",
       "#### OpenAI\n",
       "\n",
       " Species name: Heliconius erato\n",
       "\n",
       "Explanation for reasoning: This butterfly has the distinctive coloration and wing pattern characteristic of the Heliconius erato, also known as the red postman butterfly. It is known for its black wings with bright red to orange patches and white spots along the edges. The distribution of color and the shape of the wings in the image are consistent with this species, which is commonly found in Central and South America."
      ],
      "text/plain": [
       "\u001b[1m<\u001b[0m\u001b[1;95mIPython.core.display.Markdown\u001b[0m\u001b[39m object\u001b[0m\u001b[1m>\u001b[0m"
      ]
     },
     "metadata": {},
     "output_type": "display_data"
    }
   ],
   "source": [
    "for index, row in df.iterrows():\n",
    "    obs_id = row['id']\n",
    "    url = row['medium_url']\n",
    "    taxon_rank = row['taxon_rank']\n",
    "    taxon_name = row['taxon_name']\n",
    "    preferred_common_name = row['preferred_common_name']\n",
    "    guess = row['guess']\n",
    "    header = f\"### Observation: {obs_id}\"\n",
    "    taxon_md = f\"#### iNaturalist\\n\\n__Taxon:__ {taxon_rank} - {taxon_name}\\n\\n__Common Name:__ {preferred_common_name}\"\n",
    "    image_md = f\"![Image {obs_id}]({url})\"\n",
    "    link_md = f\"[View in iNaturalist](https://www.inaturalist.org/observations/{obs_id})\"\n",
    "    openai_md = f\"#### OpenAI\\n\\n {guess}\"\n",
    "    markdown = f\"{header}\\n\\n{link_md}\\n\\n{image_md}\\n\\n{taxon_md}\\n\\n{openai_md}\"\n",
    "    display(Markdown(markdown))"
   ]
  }
 ],
 "metadata": {
  "kernelspec": {
   "display_name": "Python 3 (ipykernel)",
   "language": "python",
   "name": "python3"
  },
  "language_info": {
   "codemirror_mode": {
    "name": "ipython",
    "version": 3
   },
   "file_extension": ".py",
   "mimetype": "text/x-python",
   "name": "python",
   "nbconvert_exporter": "python",
   "pygments_lexer": "ipython3",
   "version": "3.11.5"
  }
 },
 "nbformat": 4,
 "nbformat_minor": 5
}
